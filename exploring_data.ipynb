{
 "cells": [
  {
   "cell_type": "code",
   "execution_count": 1,
   "metadata": {},
   "outputs": [],
   "source": [
    "import pandas as pd\n",
    "import matplotlib.pyplot as plt\n",
    "import numpy as np"
   ]
  },
  {
   "cell_type": "code",
   "execution_count": 2,
   "metadata": {},
   "outputs": [
    {
     "output_type": "execute_result",
     "data": {
      "text/plain": [
       "              id                  name        date manner_of_death  \\\n",
       "date                                                                 \n",
       "2019-10-01  5072    Jack Thomas Naylor  2019-10-01            shot   \n",
       "2015-12-22  1116        Michael Hilber  2015-12-22            shot   \n",
       "2015-10-29   965  Allen Quintez Swader  2015-10-29            shot   \n",
       "2020-02-10  5527           Bobby Gibbs  2020-02-10            shot   \n",
       "2019-02-06  4482           Allon Jones  2019-02-06            shot   \n",
       "\n",
       "                   armed   age gender race          city state  \\\n",
       "date                                                             \n",
       "2019-10-01           gun  50.0      M    W       Drennen    WV   \n",
       "2015-12-22  undetermined  29.0      M    W   Brooksville    FL   \n",
       "2015-10-29           gun  18.0      M    W     Hohenwald    TN   \n",
       "2020-02-10           gun  40.0      M    B  Forrest City    AR   \n",
       "2019-02-06           gun  43.0      M    B   Walter Hill    TN   \n",
       "\n",
       "            signs_of_mental_illness  threat_level         flee  body_camera  \\\n",
       "date                                                                          \n",
       "2019-10-01                    False        attack  Not fleeing        False   \n",
       "2015-12-22                    False  undetermined          Car        False   \n",
       "2015-10-29                    False        attack  Not fleeing        False   \n",
       "2020-02-10                    False        attack  Not fleeing        False   \n",
       "2019-02-06                     True        attack  Not fleeing        False   \n",
       "\n",
       "            longitude  latitude  is_geocoding_exact  \n",
       "date                                                 \n",
       "2019-10-01    -80.998    38.271                True  \n",
       "2015-12-22    -82.384    28.466                True  \n",
       "2015-10-29    -87.552    35.551                True  \n",
       "2020-02-10    -90.795    35.030                True  \n",
       "2019-02-06    -86.382    36.008                True  "
      ],
      "text/html": "<div>\n<style scoped>\n    .dataframe tbody tr th:only-of-type {\n        vertical-align: middle;\n    }\n\n    .dataframe tbody tr th {\n        vertical-align: top;\n    }\n\n    .dataframe thead th {\n        text-align: right;\n    }\n</style>\n<table border=\"1\" class=\"dataframe\">\n  <thead>\n    <tr style=\"text-align: right;\">\n      <th></th>\n      <th>id</th>\n      <th>name</th>\n      <th>date</th>\n      <th>manner_of_death</th>\n      <th>armed</th>\n      <th>age</th>\n      <th>gender</th>\n      <th>race</th>\n      <th>city</th>\n      <th>state</th>\n      <th>signs_of_mental_illness</th>\n      <th>threat_level</th>\n      <th>flee</th>\n      <th>body_camera</th>\n      <th>longitude</th>\n      <th>latitude</th>\n      <th>is_geocoding_exact</th>\n    </tr>\n    <tr>\n      <th>date</th>\n      <th></th>\n      <th></th>\n      <th></th>\n      <th></th>\n      <th></th>\n      <th></th>\n      <th></th>\n      <th></th>\n      <th></th>\n      <th></th>\n      <th></th>\n      <th></th>\n      <th></th>\n      <th></th>\n      <th></th>\n      <th></th>\n      <th></th>\n    </tr>\n  </thead>\n  <tbody>\n    <tr>\n      <th>2019-10-01</th>\n      <td>5072</td>\n      <td>Jack Thomas Naylor</td>\n      <td>2019-10-01</td>\n      <td>shot</td>\n      <td>gun</td>\n      <td>50.0</td>\n      <td>M</td>\n      <td>W</td>\n      <td>Drennen</td>\n      <td>WV</td>\n      <td>False</td>\n      <td>attack</td>\n      <td>Not fleeing</td>\n      <td>False</td>\n      <td>-80.998</td>\n      <td>38.271</td>\n      <td>True</td>\n    </tr>\n    <tr>\n      <th>2015-12-22</th>\n      <td>1116</td>\n      <td>Michael Hilber</td>\n      <td>2015-12-22</td>\n      <td>shot</td>\n      <td>undetermined</td>\n      <td>29.0</td>\n      <td>M</td>\n      <td>W</td>\n      <td>Brooksville</td>\n      <td>FL</td>\n      <td>False</td>\n      <td>undetermined</td>\n      <td>Car</td>\n      <td>False</td>\n      <td>-82.384</td>\n      <td>28.466</td>\n      <td>True</td>\n    </tr>\n    <tr>\n      <th>2015-10-29</th>\n      <td>965</td>\n      <td>Allen Quintez Swader</td>\n      <td>2015-10-29</td>\n      <td>shot</td>\n      <td>gun</td>\n      <td>18.0</td>\n      <td>M</td>\n      <td>W</td>\n      <td>Hohenwald</td>\n      <td>TN</td>\n      <td>False</td>\n      <td>attack</td>\n      <td>Not fleeing</td>\n      <td>False</td>\n      <td>-87.552</td>\n      <td>35.551</td>\n      <td>True</td>\n    </tr>\n    <tr>\n      <th>2020-02-10</th>\n      <td>5527</td>\n      <td>Bobby Gibbs</td>\n      <td>2020-02-10</td>\n      <td>shot</td>\n      <td>gun</td>\n      <td>40.0</td>\n      <td>M</td>\n      <td>B</td>\n      <td>Forrest City</td>\n      <td>AR</td>\n      <td>False</td>\n      <td>attack</td>\n      <td>Not fleeing</td>\n      <td>False</td>\n      <td>-90.795</td>\n      <td>35.030</td>\n      <td>True</td>\n    </tr>\n    <tr>\n      <th>2019-02-06</th>\n      <td>4482</td>\n      <td>Allon Jones</td>\n      <td>2019-02-06</td>\n      <td>shot</td>\n      <td>gun</td>\n      <td>43.0</td>\n      <td>M</td>\n      <td>B</td>\n      <td>Walter Hill</td>\n      <td>TN</td>\n      <td>True</td>\n      <td>attack</td>\n      <td>Not fleeing</td>\n      <td>False</td>\n      <td>-86.382</td>\n      <td>36.008</td>\n      <td>True</td>\n    </tr>\n  </tbody>\n</table>\n</div>"
     },
     "metadata": {},
     "execution_count": 2
    }
   ],
   "source": [
    "df = pd.read_csv('fatal-police-shootings-data.csv')\n",
    "df.index = pd.to_datetime(df.date,format='%Y-%m-%d')\n",
    "df.sample(5)"
   ]
  },
  {
   "cell_type": "code",
   "execution_count": 3,
   "metadata": {},
   "outputs": [],
   "source": [
    "black_mask = df.race == 'B'\n",
    "white_mask = df.race == 'W'\n",
    "hisp_mask = df.race == 'H'\n",
    "utah_mask = df.state == 'UT'\n",
    "nv_mask = df.state == 'NV'\n",
    "provo_mask = df.city == 'Provo'\n",
    "unarmed_mask = df.armed == 'unarmed'\n",
    "undet_mask = df.armed == 'undetermined'\n",
    "toy_mask = df.armed == 'toy weapon' \n",
    "nan_mask = df.armed.isnull()\n",
    "gun_mask = df.armed == 'gun'"
   ]
  },
  {
   "cell_type": "code",
   "execution_count": 4,
   "metadata": {},
   "outputs": [
    {
     "output_type": "execute_result",
     "data": {
      "text/plain": [
       "              id                    name        date   manner_of_death  \\\n",
       "date                                                                     \n",
       "2019-01-22  4395          Jimmy Atchison  2019-01-22              shot   \n",
       "2019-03-24  4589       Kevin Bruce Mason  2019-03-24              shot   \n",
       "2019-04-07  4622           Marzeus Scott  2019-04-07              shot   \n",
       "2019-04-11  4664            Marcus McVae  2019-04-11              shot   \n",
       "2019-04-29  4692            Isaiah Lewis  2019-04-29  shot and Tasered   \n",
       "2019-06-06  4773             Ryan Twyman  2019-06-06              shot   \n",
       "2019-07-25  4894  Josef Delon Richardson  2019-07-25              shot   \n",
       "2019-08-26  4981      Channara Tom Pheap  2019-08-26              shot   \n",
       "2019-09-14  5042          Melvin Watkins  2019-09-14              shot   \n",
       "2019-10-12  5090      Atatiana Jefferson  2019-10-12              shot   \n",
       "2019-10-14  5099   Christopher Whitfield  2019-10-14              shot   \n",
       "2019-12-02  5249            Michael Dean  2019-12-02              shot   \n",
       "\n",
       "              armed   age gender race         city state  \\\n",
       "date                                                       \n",
       "2019-01-22  unarmed  21.0      M    B      Atlanta    GA   \n",
       "2019-03-24  unarmed  57.0      M    B    Baltimore    MD   \n",
       "2019-04-07  unarmed  35.0      M    B  Blytheville    AR   \n",
       "2019-04-11  unarmed  34.0      M    B       Boerne    TX   \n",
       "2019-04-29  unarmed  17.0      M    B       Edmond    OK   \n",
       "2019-06-06  unarmed  24.0      M    B  Los Angeles    CA   \n",
       "2019-07-25  unarmed  38.0      M    B   Port Allen    LA   \n",
       "2019-08-26  unarmed  33.0      M    B    Knoxville    TN   \n",
       "2019-09-14  unarmed  54.0      M    B  Baton Rouge    LA   \n",
       "2019-10-12  unarmed  28.0      F    B   Fort Worth    TX   \n",
       "2019-10-14  unarmed  31.0      M    B        Ethel    LA   \n",
       "2019-12-02  unarmed  28.0      M    B       Temple    TX   \n",
       "\n",
       "            signs_of_mental_illness  threat_level         flee  body_camera  \\\n",
       "date                                                                          \n",
       "2019-01-22                    False  undetermined         Foot        False   \n",
       "2019-03-24                    False         other  Not fleeing         True   \n",
       "2019-04-07                     True        attack         Foot         True   \n",
       "2019-04-11                    False        attack         Foot        False   \n",
       "2019-04-29                    False        attack         Foot        False   \n",
       "2019-06-06                    False         other          Car        False   \n",
       "2019-07-25                    False  undetermined          NaN        False   \n",
       "2019-08-26                    False        attack  Not fleeing        False   \n",
       "2019-09-14                    False  undetermined  Not fleeing        False   \n",
       "2019-10-12                    False         other  Not fleeing         True   \n",
       "2019-10-14                     True  undetermined         Foot        False   \n",
       "2019-12-02                    False  undetermined  Not fleeing        False   \n",
       "\n",
       "            longitude  latitude  is_geocoding_exact  \n",
       "date                                                 \n",
       "2019-01-22    -84.491    33.752                True  \n",
       "2019-03-24    -76.669    39.349                True  \n",
       "2019-04-07    -89.916    35.890                True  \n",
       "2019-04-11    -98.740    29.782                True  \n",
       "2019-04-29    -97.510    35.650                True  \n",
       "2019-06-06   -118.270    33.913                True  \n",
       "2019-07-25    -91.207    30.447                True  \n",
       "2019-08-26    -83.986    36.001                True  \n",
       "2019-09-14    -90.999    30.362                True  \n",
       "2019-10-12        NaN       NaN                True  \n",
       "2019-10-14    -91.124    30.838                True  \n",
       "2019-12-02    -97.337    31.061                True  "
      ],
      "text/html": "<div>\n<style scoped>\n    .dataframe tbody tr th:only-of-type {\n        vertical-align: middle;\n    }\n\n    .dataframe tbody tr th {\n        vertical-align: top;\n    }\n\n    .dataframe thead th {\n        text-align: right;\n    }\n</style>\n<table border=\"1\" class=\"dataframe\">\n  <thead>\n    <tr style=\"text-align: right;\">\n      <th></th>\n      <th>id</th>\n      <th>name</th>\n      <th>date</th>\n      <th>manner_of_death</th>\n      <th>armed</th>\n      <th>age</th>\n      <th>gender</th>\n      <th>race</th>\n      <th>city</th>\n      <th>state</th>\n      <th>signs_of_mental_illness</th>\n      <th>threat_level</th>\n      <th>flee</th>\n      <th>body_camera</th>\n      <th>longitude</th>\n      <th>latitude</th>\n      <th>is_geocoding_exact</th>\n    </tr>\n    <tr>\n      <th>date</th>\n      <th></th>\n      <th></th>\n      <th></th>\n      <th></th>\n      <th></th>\n      <th></th>\n      <th></th>\n      <th></th>\n      <th></th>\n      <th></th>\n      <th></th>\n      <th></th>\n      <th></th>\n      <th></th>\n      <th></th>\n      <th></th>\n      <th></th>\n    </tr>\n  </thead>\n  <tbody>\n    <tr>\n      <th>2019-01-22</th>\n      <td>4395</td>\n      <td>Jimmy Atchison</td>\n      <td>2019-01-22</td>\n      <td>shot</td>\n      <td>unarmed</td>\n      <td>21.0</td>\n      <td>M</td>\n      <td>B</td>\n      <td>Atlanta</td>\n      <td>GA</td>\n      <td>False</td>\n      <td>undetermined</td>\n      <td>Foot</td>\n      <td>False</td>\n      <td>-84.491</td>\n      <td>33.752</td>\n      <td>True</td>\n    </tr>\n    <tr>\n      <th>2019-03-24</th>\n      <td>4589</td>\n      <td>Kevin Bruce Mason</td>\n      <td>2019-03-24</td>\n      <td>shot</td>\n      <td>unarmed</td>\n      <td>57.0</td>\n      <td>M</td>\n      <td>B</td>\n      <td>Baltimore</td>\n      <td>MD</td>\n      <td>False</td>\n      <td>other</td>\n      <td>Not fleeing</td>\n      <td>True</td>\n      <td>-76.669</td>\n      <td>39.349</td>\n      <td>True</td>\n    </tr>\n    <tr>\n      <th>2019-04-07</th>\n      <td>4622</td>\n      <td>Marzeus Scott</td>\n      <td>2019-04-07</td>\n      <td>shot</td>\n      <td>unarmed</td>\n      <td>35.0</td>\n      <td>M</td>\n      <td>B</td>\n      <td>Blytheville</td>\n      <td>AR</td>\n      <td>True</td>\n      <td>attack</td>\n      <td>Foot</td>\n      <td>True</td>\n      <td>-89.916</td>\n      <td>35.890</td>\n      <td>True</td>\n    </tr>\n    <tr>\n      <th>2019-04-11</th>\n      <td>4664</td>\n      <td>Marcus McVae</td>\n      <td>2019-04-11</td>\n      <td>shot</td>\n      <td>unarmed</td>\n      <td>34.0</td>\n      <td>M</td>\n      <td>B</td>\n      <td>Boerne</td>\n      <td>TX</td>\n      <td>False</td>\n      <td>attack</td>\n      <td>Foot</td>\n      <td>False</td>\n      <td>-98.740</td>\n      <td>29.782</td>\n      <td>True</td>\n    </tr>\n    <tr>\n      <th>2019-04-29</th>\n      <td>4692</td>\n      <td>Isaiah Lewis</td>\n      <td>2019-04-29</td>\n      <td>shot and Tasered</td>\n      <td>unarmed</td>\n      <td>17.0</td>\n      <td>M</td>\n      <td>B</td>\n      <td>Edmond</td>\n      <td>OK</td>\n      <td>False</td>\n      <td>attack</td>\n      <td>Foot</td>\n      <td>False</td>\n      <td>-97.510</td>\n      <td>35.650</td>\n      <td>True</td>\n    </tr>\n    <tr>\n      <th>2019-06-06</th>\n      <td>4773</td>\n      <td>Ryan Twyman</td>\n      <td>2019-06-06</td>\n      <td>shot</td>\n      <td>unarmed</td>\n      <td>24.0</td>\n      <td>M</td>\n      <td>B</td>\n      <td>Los Angeles</td>\n      <td>CA</td>\n      <td>False</td>\n      <td>other</td>\n      <td>Car</td>\n      <td>False</td>\n      <td>-118.270</td>\n      <td>33.913</td>\n      <td>True</td>\n    </tr>\n    <tr>\n      <th>2019-07-25</th>\n      <td>4894</td>\n      <td>Josef Delon Richardson</td>\n      <td>2019-07-25</td>\n      <td>shot</td>\n      <td>unarmed</td>\n      <td>38.0</td>\n      <td>M</td>\n      <td>B</td>\n      <td>Port Allen</td>\n      <td>LA</td>\n      <td>False</td>\n      <td>undetermined</td>\n      <td>NaN</td>\n      <td>False</td>\n      <td>-91.207</td>\n      <td>30.447</td>\n      <td>True</td>\n    </tr>\n    <tr>\n      <th>2019-08-26</th>\n      <td>4981</td>\n      <td>Channara Tom Pheap</td>\n      <td>2019-08-26</td>\n      <td>shot</td>\n      <td>unarmed</td>\n      <td>33.0</td>\n      <td>M</td>\n      <td>B</td>\n      <td>Knoxville</td>\n      <td>TN</td>\n      <td>False</td>\n      <td>attack</td>\n      <td>Not fleeing</td>\n      <td>False</td>\n      <td>-83.986</td>\n      <td>36.001</td>\n      <td>True</td>\n    </tr>\n    <tr>\n      <th>2019-09-14</th>\n      <td>5042</td>\n      <td>Melvin Watkins</td>\n      <td>2019-09-14</td>\n      <td>shot</td>\n      <td>unarmed</td>\n      <td>54.0</td>\n      <td>M</td>\n      <td>B</td>\n      <td>Baton Rouge</td>\n      <td>LA</td>\n      <td>False</td>\n      <td>undetermined</td>\n      <td>Not fleeing</td>\n      <td>False</td>\n      <td>-90.999</td>\n      <td>30.362</td>\n      <td>True</td>\n    </tr>\n    <tr>\n      <th>2019-10-12</th>\n      <td>5090</td>\n      <td>Atatiana Jefferson</td>\n      <td>2019-10-12</td>\n      <td>shot</td>\n      <td>unarmed</td>\n      <td>28.0</td>\n      <td>F</td>\n      <td>B</td>\n      <td>Fort Worth</td>\n      <td>TX</td>\n      <td>False</td>\n      <td>other</td>\n      <td>Not fleeing</td>\n      <td>True</td>\n      <td>NaN</td>\n      <td>NaN</td>\n      <td>True</td>\n    </tr>\n    <tr>\n      <th>2019-10-14</th>\n      <td>5099</td>\n      <td>Christopher Whitfield</td>\n      <td>2019-10-14</td>\n      <td>shot</td>\n      <td>unarmed</td>\n      <td>31.0</td>\n      <td>M</td>\n      <td>B</td>\n      <td>Ethel</td>\n      <td>LA</td>\n      <td>True</td>\n      <td>undetermined</td>\n      <td>Foot</td>\n      <td>False</td>\n      <td>-91.124</td>\n      <td>30.838</td>\n      <td>True</td>\n    </tr>\n    <tr>\n      <th>2019-12-02</th>\n      <td>5249</td>\n      <td>Michael Dean</td>\n      <td>2019-12-02</td>\n      <td>shot</td>\n      <td>unarmed</td>\n      <td>28.0</td>\n      <td>M</td>\n      <td>B</td>\n      <td>Temple</td>\n      <td>TX</td>\n      <td>False</td>\n      <td>undetermined</td>\n      <td>Not fleeing</td>\n      <td>False</td>\n      <td>-97.337</td>\n      <td>31.061</td>\n      <td>True</td>\n    </tr>\n  </tbody>\n</table>\n</div>"
     },
     "metadata": {},
     "execution_count": 4
    }
   ],
   "source": [
    "df[black_mask & unarmed_mask]['2019']"
   ]
  },
  {
   "cell_type": "code",
   "execution_count": 5,
   "metadata": {},
   "outputs": [],
   "source": [
    "def get_arm_disparity(race, mask, prop, armed=True):\n",
    "    \n",
    "    if armed:\n",
    "        arm_mask = gun_mask\n",
    "    else:\n",
    "        arm_mask = unarmed_mask\n",
    "        \n",
    "    deaths = []\n",
    "    race_deaths = []\n",
    "    deaths.append(df[arm_mask].id.count())\n",
    "    race_deaths.append(df[mask & arm_mask].id.count())\n",
    "    \n",
    "    if armed:\n",
    "        print(f'Data for armed {race} suspects:')\n",
    "    else:\n",
    "        print(f'Data for unarmed {race} suspects:')\n",
    "    \n",
    "    print('Total Deaths: ', np.sum(deaths))\n",
    "    print(f'{race} Deaths: ', np.sum(race_deaths))\n",
    "    what_it_is = np.sum(race_deaths) / np.sum(deaths)\n",
    "    what_it_should_be = prop\n",
    "    disparity = (what_it_is - what_it_should_be) / what_it_should_be\n",
    "    print('Disparity: ', disparity, '\\n')"
   ]
  },
  {
   "cell_type": "code",
   "execution_count": 6,
   "metadata": {
    "tags": []
   },
   "outputs": [
    {
     "output_type": "stream",
     "name": "stdout",
     "text": [
      "Data for armed WHITE suspects:\nTotal Deaths:  3410\nWHITE Deaths:  1611\nDisparity:  -0.34384164222873903 \n\nData for unarmed WHITE suspects:\nTotal Deaths:  384\nWHITE Deaths:  161\nDisparity:  -0.41767939814814814 \n\nData for armed BLACK suspects:\nTotal Deaths:  3410\nBLACK Deaths:  851\nDisparity:  0.7825722664432341 \n\nData for unarmed BLACK suspects:\nTotal Deaths:  384\nBLACK Deaths:  130\nDisparity:  1.4181547619047619 \n\nData for armed HISPANIC suspects:\nTotal Deaths:  3410\nHISPANIC Deaths:  503\nDisparity:  -0.19394900886175334 \n\nData for unarmed HISPANIC suspects:\nTotal Deaths:  384\nHISPANIC Deaths:  69\nDisparity:  -0.018101092896174842 \n\n"
     ]
    }
   ],
   "source": [
    "get_arm_disparity('WHITE', white_mask, .72, armed=True)\n",
    "get_arm_disparity('WHITE', white_mask, .72, armed=False)\n",
    "get_arm_disparity('BLACK', black_mask, .14, armed=True)\n",
    "get_arm_disparity('BLACK', black_mask, .14, armed=False)\n",
    "get_arm_disparity('HISPANIC', hisp_mask, .183, armed=True)\n",
    "get_arm_disparity('HISPANIC', hisp_mask, .183, armed=False)"
   ]
  },
  {
   "cell_type": "code",
   "execution_count": 7,
   "metadata": {},
   "outputs": [],
   "source": [
    "def get_disparity(race, mask, prop):\n",
    "       \n",
    "    deaths = []\n",
    "    race_deaths = []\n",
    "    deaths.append(df.id.count())\n",
    "    race_deaths.append(df[mask].id.count())\n",
    " \n",
    "    print(f'Data for {race} suspects:')\n",
    "    \n",
    "    print('Total Deaths: ', np.sum(deaths))\n",
    "    print(f'{race} Deaths: ', np.sum(race_deaths))\n",
    "    what_it_is = np.sum(race_deaths) / np.sum(deaths)\n",
    "    what_it_should_be = prop\n",
    "    disparity = (what_it_is - what_it_should_be) / what_it_should_be\n",
    "    print('Disparity: ', disparity, '\\n')"
   ]
  },
  {
   "cell_type": "code",
   "execution_count": 8,
   "metadata": {
    "tags": []
   },
   "outputs": [
    {
     "output_type": "stream",
     "name": "stdout",
     "text": [
      "Data for WHITE suspects:\nTotal Deaths:  5981\nWHITE Deaths:  2739\nDisparity:  -0.3639580895056568 \n\nData for BLACK suspects:\nTotal Deaths:  5981\nBLACK Deaths:  1425\nDisparity:  0.7018176606874148 \n\nData for HISPANIC suspects:\nTotal Deaths:  5981\nHISPANIC Deaths:  1001\nDisparity:  -0.08544635425660306 \n\n"
     ]
    }
   ],
   "source": [
    "get_disparity('WHITE', white_mask, .72)\n",
    "get_disparity('BLACK', black_mask, .14)\n",
    "get_disparity('HISPANIC', hisp_mask, .183)"
   ]
  },
  {
   "cell_type": "code",
   "execution_count": 9,
   "metadata": {},
   "outputs": [],
   "source": [
    "def get_state_disparity(race, state, race_mask, state_mask, prop):\n",
    "  \n",
    "    deaths = []\n",
    "    race_deaths = []\n",
    "    deaths.append(df[(state_mask)].id.count())\n",
    "    race_deaths.append(df[(race_mask & state_mask)].id.count())\n",
    "    \n",
    "    print(f'Data for {race} suspects in {state}:')\n",
    "    \n",
    "    print('Total Deaths: ', np.sum(deaths))\n",
    "    print(f'{race} Deaths: ', np.sum(race_deaths))\n",
    "    what_it_is = np.sum(race_deaths) / np.sum(deaths)\n",
    "    what_it_should_be = prop\n",
    "    disparity = (what_it_is - what_it_should_be) / what_it_should_be\n",
    "    print('Disparity: ', disparity, '\\n')"
   ]
  },
  {
   "cell_type": "code",
   "execution_count": 10,
   "metadata": {
    "tags": []
   },
   "outputs": [
    {
     "output_type": "stream",
     "name": "stdout",
     "text": [
      "Data for WHITE suspects in UTAH:\nTotal Deaths:  73\nWHITE Deaths:  47\nDisparity:  -0.29014816269199983 \n\nData for BLACK suspects in UTAH:\nTotal Deaths:  73\nBLACK Deaths:  7\nDisparity:  5.8493150684931505 \n\nData for HISPANIC suspects in UTAH:\nTotal Deaths:  73\nHISPANIC Deaths:  12\nDisparity:  0.1576307158016593 \n\n"
     ]
    }
   ],
   "source": [
    "get_state_disparity('WHITE', 'UTAH', white_mask, utah_mask, .907)\n",
    "get_state_disparity('BLACK', 'UTAH', black_mask, utah_mask, .014)\n",
    "get_state_disparity('HISPANIC', 'UTAH', hisp_mask, utah_mask, .142)"
   ]
  },
  {
   "cell_type": "code",
   "execution_count": 11,
   "metadata": {
    "tags": []
   },
   "outputs": [
    {
     "output_type": "stream",
     "name": "stdout",
     "text": [
      "Data for WHITE suspects in PROVO:\nTotal Deaths:  1\nWHITE Deaths:  1\nDisparity:  0.10253583241455344 \n\nData for BLACK suspects in PROVO:\nTotal Deaths:  1\nBLACK Deaths:  0\nDisparity:  -1.0 \n\nData for HISPANIC suspects in PROVO:\nTotal Deaths:  1\nHISPANIC Deaths:  0\nDisparity:  -1.0 \n\n"
     ]
    }
   ],
   "source": [
    "get_state_disparity('WHITE', 'PROVO', white_mask, provo_mask, .907)\n",
    "get_state_disparity('BLACK', 'PROVO', black_mask, provo_mask, .014)\n",
    "get_state_disparity('HISPANIC', 'PROVO', hisp_mask, provo_mask, .142)"
   ]
  },
  {
   "cell_type": "code",
   "execution_count": 12,
   "metadata": {
    "tags": []
   },
   "outputs": [
    {
     "output_type": "stream",
     "name": "stdout",
     "text": [
      "Data for WHITE suspects in Nevada:\nTotal Deaths:  107\nWHITE Deaths:  46\nDisparity:  -0.41825907705537924 \n\nData for BLACK suspects in Nevada:\nTotal Deaths:  107\nBLACK Deaths:  16\nDisparity:  0.45177388621722164 \n\nData for HISPANIC suspects in Nevada:\nTotal Deaths:  107\nHISPANIC Deaths:  29\nDisparity:  -0.07182178978363848 \n\n"
     ]
    }
   ],
   "source": [
    "get_state_disparity('WHITE', 'Nevada', white_mask, nv_mask, .739)\n",
    "get_state_disparity('BLACK', 'Nevada', black_mask, nv_mask, .103)\n",
    "get_state_disparity('HISPANIC', 'Nevada', hisp_mask, nv_mask, .292)"
   ]
  },
  {
   "cell_type": "code",
   "execution_count": 13,
   "metadata": {},
   "outputs": [],
   "source": [
    "def get_state_diff_yr(state, state_mask, year, pop, prob_white, prob_black, prob_hisp):\n",
    "\n",
    "    black_mask = df.race == 'B'\n",
    "    white_mask = df.race == 'W'\n",
    "    hisp_mask = df.race == 'H'\n",
    "\n",
    "    deaths = df[(state_mask)][year].id.count()\n",
    "    black_deaths = df[(black_mask & state_mask)][year].id.count()\n",
    "    white_deaths = df[(white_mask & state_mask)][year].id.count()\n",
    "    hisp_deaths  = df[( hisp_mask & state_mask)][year].id.count()\n",
    "\n",
    "    prob_black_giv_death = black_deaths / deaths\n",
    "    prob_white_giv_death = white_deaths / deaths\n",
    "    prob_hisp_giv_death  =  hisp_deaths / deaths\n",
    "\n",
    "    prob_death = deaths / pop\n",
    "\n",
    "    prob_death_giv_black = prob_black_giv_death * prob_death / prob_black\n",
    "    prob_death_giv_white = prob_white_giv_death * prob_death / prob_white\n",
    "    prob_death_giv_hisp  = prob_hisp_giv_death  * prob_death /  prob_hisp\n",
    "\n",
    "\n",
    "    print(f'Death Disparity Among Races in {state} in {year}\\n')    \n",
    "    print('Total Deaths: ', deaths)\n",
    "    print('White Deaths: ', white_deaths)\n",
    "    print('Black Deaths: ', black_deaths)\n",
    "    print('Hispanic Deaths: ', hisp_deaths)\n",
    "    print('')\n",
    "    print('Probability if being killed by police if black: ', prob_death_giv_black)\n",
    "    print('Probability if being killed by police if white: ', prob_death_giv_white)\n",
    "    print('Probability if being killed by police if hisp:  ',  prob_death_giv_hisp)\n",
    "\n",
    "    print(f'Black people are {np.round(prob_death_giv_black / prob_death_giv_white, 3)} times more likely to be killed by police than white people')"
   ]
  },
  {
   "cell_type": "code",
   "execution_count": 14,
   "metadata": {
    "tags": []
   },
   "outputs": [
    {
     "output_type": "stream",
     "name": "stdout",
     "text": [
      "Death Disparity Among Races in Nevada in 2019\n\nTotal Deaths:  11\nWhite Deaths:  3\nBlack Deaths:  2\nHispanic Deaths:  4\n\nProbability if being killed by police if black:  6.304375236414073e-06\nProbability if being killed by police if white:  1.3180324411718187e-06\nProbability if being killed by police if hisp:   4.4476071873332155e-06\nBlack people are 4.783 times more likely to be killed by police than white people\n"
     ]
    }
   ],
   "source": [
    "get_state_diff_yr('Nevada', nv_mask, '2019', 3.08e6, .739, .103, .292)"
   ]
  },
  {
   "cell_type": "code",
   "execution_count": 26,
   "metadata": {},
   "outputs": [
    {
     "output_type": "stream",
     "name": "stdout",
     "text": [
      "Death Disparity Among Races in Nevada in 2020\n\nTotal Deaths:  25\nWhite Deaths:  14\nBlack Deaths:  4\nHispanic Deaths:  3\n\nProbability if being killed by police if black:  1.2608750472828145e-05\nProbability if being killed by police if white:  6.1508180588018206e-06\nProbability if being killed by police if hisp:   3.335705390499911e-06\nBlack people are 2.05 times more likely to be killed by police than white people\n"
     ]
    }
   ],
   "source": [
    "get_state_diff_yr('Nevada', nv_mask, '2020', 3.08e6, .739, .103, .292)"
   ]
  },
  {
   "cell_type": "code",
   "execution_count": 25,
   "metadata": {},
   "outputs": [
    {
     "output_type": "stream",
     "name": "stdout",
     "text": [
      "Death Disparity Among Races in Utah in 2018\n\nTotal Deaths:  19\nWhite Deaths:  10\nBlack Deaths:  3\nHispanic Deaths:  4\n\nProbability if being killed by police if black:  6.238303181534622e-05\nProbability if being killed by police if white:  3.4427721752398576e-06\nProbability if being killed by police if hisp:   8.664309974353642e-06\nBlack people are 18.12 times more likely to be killed by police than white people\n"
     ]
    }
   ],
   "source": [
    "get_state_diff_yr('Utah', utah_mask, '2018', 3.206e6, .906, .015, .144)"
   ]
  },
  {
   "cell_type": "code",
   "execution_count": 15,
   "metadata": {
    "tags": []
   },
   "outputs": [
    {
     "output_type": "stream",
     "name": "stdout",
     "text": [
      "Death Disparity Among Races in Utah in 2019\n\nTotal Deaths:  12\nWhite Deaths:  6\nBlack Deaths:  2\nHispanic Deaths:  3\n\nProbability if being killed by police if black:  4.158868787689748e-05\nProbability if being killed by police if white:  2.065663305143915e-06\nProbability if being killed by police if hisp:   6.498232480765232e-06\nBlack people are 20.133 times more likely to be killed by police than white people\n"
     ]
    }
   ],
   "source": [
    "get_state_diff_yr('Utah', utah_mask, '2019', 3.206e6, .906, .015, .144)"
   ]
  },
  {
   "cell_type": "code",
   "execution_count": 22,
   "metadata": {},
   "outputs": [
    {
     "output_type": "stream",
     "name": "stdout",
     "text": [
      "Death Disparity Among Races in Utah in 2020\n\nTotal Deaths:  17\nWhite Deaths:  12\nBlack Deaths:  1\nHispanic Deaths:  1\n\nProbability if being killed by police if black:  2.0794343938448744e-05\nProbability if being killed by police if white:  4.13132661028783e-06\nProbability if being killed by police if hisp:   2.166077493588411e-06\nBlack people are 5.033 times more likely to be killed by police than white people\n"
     ]
    }
   ],
   "source": [
    "get_state_diff_yr('Utah', utah_mask, '2020', 3.206e6, .906, .015, .144)"
   ]
  },
  {
   "cell_type": "code",
   "execution_count": 24,
   "metadata": {},
   "outputs": [],
   "source": [
    "# get_state_diff_yr('Utah', utah_mask, '2021', 3.206e6, .906, .015, .144)"
   ]
  },
  {
   "cell_type": "code",
   "execution_count": 16,
   "metadata": {},
   "outputs": [],
   "source": [
    "def get_diff_yr(year, pop, prob_white, prob_black, prob_hisp):\n",
    "\n",
    "    black_mask = df.race == 'B'\n",
    "    white_mask = df.race == 'W'\n",
    "    hisp_mask = df.race == 'H'\n",
    "\n",
    "    deaths = df[year].id.count()\n",
    "    black_deaths = df[black_mask][year].id.count()\n",
    "    white_deaths = df[white_mask][year].id.count()\n",
    "    hisp_deaths  = df[ hisp_mask][year].id.count()\n",
    "\n",
    "    prob_black_giv_death = black_deaths / deaths\n",
    "    prob_white_giv_death = white_deaths / deaths\n",
    "    prob_hisp_giv_death  =  hisp_deaths / deaths\n",
    "\n",
    "    prob_death = deaths / pop\n",
    "\n",
    "    prob_death_giv_black = prob_black_giv_death * prob_death / prob_black\n",
    "    prob_death_giv_white = prob_white_giv_death * prob_death / prob_white\n",
    "    prob_death_giv_hisp  = prob_hisp_giv_death  * prob_death /  prob_hisp\n",
    "\n",
    "\n",
    "    print(f'Death Disparity Among Races in {year}\\n')    \n",
    "    print('Total Deaths: ', deaths)\n",
    "    print('White Deaths: ', white_deaths)\n",
    "    print('Black Deaths: ', black_deaths)\n",
    "    print('Hispanic Deaths: ', hisp_deaths)\n",
    "    print('')\n",
    "    print('Probability if being killed by police if black: ', prob_death_giv_black)\n",
    "    print('Probability if being killed by police if white: ', prob_death_giv_white)\n",
    "    print('Probability if being killed by police if hisp:  ',  prob_death_giv_hisp)\n",
    "\n",
    "    print('')\n",
    "\n",
    "    print(f'Hispanic people are {np.round(prob_death_giv_hisp / prob_death_giv_white, 3)} times more likely to be killed by police than white people')\n",
    "\n",
    "    print(f'Black people are {np.round(prob_death_giv_black / prob_death_giv_white, 3)} times more likely to be killed by police than white people')"
   ]
  },
  {
   "cell_type": "code",
   "execution_count": 20,
   "metadata": {},
   "outputs": [
    {
     "output_type": "stream",
     "name": "stdout",
     "text": [
      "Death Disparity Among Races in 2021\n\nTotal Deaths:  48\nWhite Deaths:  12\nBlack Deaths:  4\nHispanic Deaths:  3\n\nProbability if being killed by police if black:  8.705493166187863e-08\nProbability if being killed by police if white:  5.078204346942921e-08\nProbability if being killed by police if hisp:   4.994955095353693e-08\n\nHispanic people are 0.984 times more likely to be killed by police than white people\nBlack people are 1.714 times more likely to be killed by police than white people\n"
     ]
    }
   ],
   "source": [
    "get_diff_yr('2021', 328.2e6, .72, .14, .183)"
   ]
  },
  {
   "cell_type": "code",
   "execution_count": 17,
   "metadata": {
    "tags": []
   },
   "outputs": [
    {
     "output_type": "stream",
     "name": "stdout",
     "text": [
      "Death Disparity Among Races in 2020\n\nTotal Deaths:  1003\nWhite Deaths:  436\nBlack Deaths:  226\nHispanic Deaths:  156\n\nProbability if being killed by police if black:  4.918603638896143e-06\nProbability if being killed by police if white:  1.8450809127225946e-06\nProbability if being killed by police if hisp:   2.59737664958392e-06\n\nHispanic people are 1.408 times more likely to be killed by police than white people\nBlack people are 2.666 times more likely to be killed by police than white people\n"
     ]
    }
   ],
   "source": [
    "get_diff_yr('2020', 328.2e6, .72, .14, .183)"
   ]
  },
  {
   "cell_type": "code",
   "execution_count": 18,
   "metadata": {
    "tags": []
   },
   "outputs": [
    {
     "output_type": "stream",
     "name": "stdout",
     "text": [
      "Death Disparity Among Races in 2019\n\nTotal Deaths:  999\nWhite Deaths:  405\nBlack Deaths:  249\nHispanic Deaths:  163\n\nProbability if being killed by police if black:  5.419169495951945e-06\nProbability if being killed by police if white:  1.7138939670932361e-06\nProbability if being killed by police if hisp:   2.71392560180884e-06\n\nHispanic people are 1.583 times more likely to be killed by police than white people\nBlack people are 3.162 times more likely to be killed by police than white people\n"
     ]
    }
   ],
   "source": [
    "get_diff_yr('2019', 328.2e6, .72, .14, .183)"
   ]
  },
  {
   "cell_type": "code",
   "execution_count": 19,
   "metadata": {
    "tags": []
   },
   "outputs": [
    {
     "output_type": "stream",
     "name": "stdout",
     "text": [
      "Death Disparity Among Races in 2018\n\nTotal Deaths:  990\nWhite Deaths:  456\nBlack Deaths:  229\nHispanic Deaths:  166\n\nProbability if being killed by police if black:  4.983894837642551e-06\nProbability if being killed by police if white:  1.9297176518383103e-06\nProbability if being killed by police if hisp:   2.7638751527623766e-06\n\nHispanic people are 1.432 times more likely to be killed by police than white people\nBlack people are 2.583 times more likely to be killed by police than white people\n"
     ]
    }
   ],
   "source": [
    "get_diff_yr('2018', 328.2e6, .72, .14, .183)"
   ]
  },
  {
   "cell_type": "code",
   "execution_count": null,
   "metadata": {},
   "outputs": [],
   "source": []
  },
  {
   "cell_type": "code",
   "execution_count": null,
   "metadata": {},
   "outputs": [],
   "source": []
  }
 ],
 "metadata": {
  "kernelspec": {
   "display_name": "Python 3",
   "language": "python",
   "name": "python3"
  },
  "language_info": {
   "codemirror_mode": {
    "name": "ipython",
    "version": 3
   },
   "file_extension": ".py",
   "mimetype": "text/x-python",
   "name": "python",
   "nbconvert_exporter": "python",
   "pygments_lexer": "ipython3",
   "version": "3.8.5-final"
  }
 },
 "nbformat": 4,
 "nbformat_minor": 4
}