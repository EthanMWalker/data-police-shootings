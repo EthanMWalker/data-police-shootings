{
 "cells": [
  {
   "cell_type": "code",
   "execution_count": 1,
   "metadata": {},
   "outputs": [],
   "source": [
    "import pandas as pd\n",
    "import matplotlib.pyplot as plt\n",
    "import numpy as np"
   ]
  },
  {
   "cell_type": "code",
   "execution_count": 2,
   "metadata": {},
   "outputs": [
    {
     "output_type": "execute_result",
     "data": {
      "text/plain": "              id                  name        date manner_of_death  \\\ndate                                                                 \n2017-04-18  2511          Casey Desper  2017-04-18            shot   \n2019-01-28  4422       Gregory Griffin  2019-01-28            shot   \n2016-08-16  1790  Larry Eugene Kurtley  2016-08-16            shot   \n2019-10-30  5147     Michael Pinkerman  2019-10-30            shot   \n2016-05-04  1509      Richard Ferretti  2016-05-04            shot   \n\n                 armed   age gender race             city state  \\\ndate                                                              \n2017-04-18         NaN  32.0      M    W       Brandywine    WV   \n2019-01-28     unarmed  46.0      M    B           Newark    NJ   \n2016-08-16  toy weapon  53.0      M    W  Apache Junction    AZ   \n2019-10-30         gun   NaN      M    W              Ona    WV   \n2016-05-04         NaN  52.0      M    W     Philadelphia    PA   \n\n            signs_of_mental_illness threat_level         flee  body_camera  \ndate                                                                        \n2017-04-18                    False       attack          Car        False  \n2019-01-28                    False        other          Car        False  \n2016-08-16                    False        other  Not fleeing        False  \n2019-10-30                    False       attack  Not fleeing        False  \n2016-05-04                    False        other  Not fleeing        False  ",
      "text/html": "<div>\n<style scoped>\n    .dataframe tbody tr th:only-of-type {\n        vertical-align: middle;\n    }\n\n    .dataframe tbody tr th {\n        vertical-align: top;\n    }\n\n    .dataframe thead th {\n        text-align: right;\n    }\n</style>\n<table border=\"1\" class=\"dataframe\">\n  <thead>\n    <tr style=\"text-align: right;\">\n      <th></th>\n      <th>id</th>\n      <th>name</th>\n      <th>date</th>\n      <th>manner_of_death</th>\n      <th>armed</th>\n      <th>age</th>\n      <th>gender</th>\n      <th>race</th>\n      <th>city</th>\n      <th>state</th>\n      <th>signs_of_mental_illness</th>\n      <th>threat_level</th>\n      <th>flee</th>\n      <th>body_camera</th>\n    </tr>\n    <tr>\n      <th>date</th>\n      <th></th>\n      <th></th>\n      <th></th>\n      <th></th>\n      <th></th>\n      <th></th>\n      <th></th>\n      <th></th>\n      <th></th>\n      <th></th>\n      <th></th>\n      <th></th>\n      <th></th>\n      <th></th>\n    </tr>\n  </thead>\n  <tbody>\n    <tr>\n      <th>2017-04-18</th>\n      <td>2511</td>\n      <td>Casey Desper</td>\n      <td>2017-04-18</td>\n      <td>shot</td>\n      <td>NaN</td>\n      <td>32.0</td>\n      <td>M</td>\n      <td>W</td>\n      <td>Brandywine</td>\n      <td>WV</td>\n      <td>False</td>\n      <td>attack</td>\n      <td>Car</td>\n      <td>False</td>\n    </tr>\n    <tr>\n      <th>2019-01-28</th>\n      <td>4422</td>\n      <td>Gregory Griffin</td>\n      <td>2019-01-28</td>\n      <td>shot</td>\n      <td>unarmed</td>\n      <td>46.0</td>\n      <td>M</td>\n      <td>B</td>\n      <td>Newark</td>\n      <td>NJ</td>\n      <td>False</td>\n      <td>other</td>\n      <td>Car</td>\n      <td>False</td>\n    </tr>\n    <tr>\n      <th>2016-08-16</th>\n      <td>1790</td>\n      <td>Larry Eugene Kurtley</td>\n      <td>2016-08-16</td>\n      <td>shot</td>\n      <td>toy weapon</td>\n      <td>53.0</td>\n      <td>M</td>\n      <td>W</td>\n      <td>Apache Junction</td>\n      <td>AZ</td>\n      <td>False</td>\n      <td>other</td>\n      <td>Not fleeing</td>\n      <td>False</td>\n    </tr>\n    <tr>\n      <th>2019-10-30</th>\n      <td>5147</td>\n      <td>Michael Pinkerman</td>\n      <td>2019-10-30</td>\n      <td>shot</td>\n      <td>gun</td>\n      <td>NaN</td>\n      <td>M</td>\n      <td>W</td>\n      <td>Ona</td>\n      <td>WV</td>\n      <td>False</td>\n      <td>attack</td>\n      <td>Not fleeing</td>\n      <td>False</td>\n    </tr>\n    <tr>\n      <th>2016-05-04</th>\n      <td>1509</td>\n      <td>Richard Ferretti</td>\n      <td>2016-05-04</td>\n      <td>shot</td>\n      <td>NaN</td>\n      <td>52.0</td>\n      <td>M</td>\n      <td>W</td>\n      <td>Philadelphia</td>\n      <td>PA</td>\n      <td>False</td>\n      <td>other</td>\n      <td>Not fleeing</td>\n      <td>False</td>\n    </tr>\n  </tbody>\n</table>\n</div>"
     },
     "metadata": {},
     "execution_count": 2
    }
   ],
   "source": [
    "df = pd.read_csv('fatal-police-shootings-data.csv')\n",
    "df.index = pd.to_datetime(df.date,format='%Y-%m-%d')\n",
    "df.sample(5)"
   ]
  },
  {
   "cell_type": "code",
   "execution_count": 3,
   "metadata": {},
   "outputs": [],
   "source": [
    "black_mask = df.race == 'B'\n",
    "white_mask = df.race == 'W'\n",
    "hisp_mask = df.race == 'H'\n",
    "utah_mask = df.state == 'UT'\n",
    "nv_mask = df.state == 'NV'\n",
    "provo_mask = df.city == 'Provo'\n",
    "unarmed_mask = df.armed == 'unarmed'\n",
    "undet_mask = df.armed == 'undetermined'\n",
    "toy_mask = df.armed == 'toy weapon' \n",
    "nan_mask = df.armed.isnull()\n",
    "gun_mask = df.armed == 'gun'"
   ]
  },
  {
   "cell_type": "code",
   "execution_count": 4,
   "metadata": {},
   "outputs": [],
   "source": [
    "def get_arm_disparity(race, mask, prop, armed=True):\n",
    "    \n",
    "    if armed:\n",
    "        arm_mask = gun_mask\n",
    "    else:\n",
    "        arm_mask = unarmed_mask\n",
    "        \n",
    "    deaths = []\n",
    "    race_deaths = []\n",
    "    deaths.append(df[arm_mask].id.count())\n",
    "    race_deaths.append(df[mask & arm_mask].id.count())\n",
    "    \n",
    "    if armed:\n",
    "        print(f'Data for armed {race} suspects:')\n",
    "    else:\n",
    "        print(f'Data for unarmed {race} suspects:')\n",
    "    \n",
    "    print('Total Deaths: ', np.sum(deaths))\n",
    "    print(f'{race} Deaths: ', np.sum(race_deaths))\n",
    "    what_it_is = np.sum(race_deaths) / np.sum(deaths)\n",
    "    what_it_should_be = prop\n",
    "    disparity = (what_it_is - what_it_should_be) / what_it_should_be\n",
    "    print('Disparity: ', disparity, '\\n')"
   ]
  },
  {
   "cell_type": "code",
   "execution_count": 5,
   "metadata": {
    "tags": []
   },
   "outputs": [
    {
     "output_type": "stream",
     "name": "stdout",
     "text": "Data for armed WHITE suspects:\nTotal Deaths:  3169\nWHITE Deaths:  1486\nDisparity:  -0.3487255005083973 \n\nData for unarmed WHITE suspects:\nTotal Deaths:  356\nWHITE Deaths:  146\nDisparity:  -0.4303995006242197 \n\nData for armed BLACK suspects:\nTotal Deaths:  3169\nBLACK Deaths:  772\nDisparity:  0.7400712257133839 \n\nData for unarmed BLACK suspects:\nTotal Deaths:  356\nBLACK Deaths:  125\nDisparity:  1.5080256821829854 \n\nData for armed HISPANIC suspects:\nTotal Deaths:  3169\nHISPANIC Deaths:  460\nDisparity:  -0.20679671751789452 \n\nData for unarmed HISPANIC suspects:\nTotal Deaths:  356\nHISPANIC Deaths:  63\nDisparity:  -0.032971081230429224 \n\n"
    }
   ],
   "source": [
    "get_arm_disparity('WHITE', white_mask, .72, armed=True)\n",
    "get_arm_disparity('WHITE', white_mask, .72, armed=False)\n",
    "get_arm_disparity('BLACK', black_mask, .14, armed=True)\n",
    "get_arm_disparity('BLACK', black_mask, .14, armed=False)\n",
    "get_arm_disparity('HISPANIC', hisp_mask, .183, armed=True)\n",
    "get_arm_disparity('HISPANIC', hisp_mask, .183, armed=False)"
   ]
  },
  {
   "cell_type": "code",
   "execution_count": null,
   "metadata": {},
   "outputs": [],
   "source": []
  },
  {
   "cell_type": "code",
   "execution_count": 6,
   "metadata": {},
   "outputs": [],
   "source": [
    "def get_disparity(race, mask, prop):\n",
    "       \n",
    "    deaths = []\n",
    "    race_deaths = []\n",
    "    deaths.append(df.id.count())\n",
    "    race_deaths.append(df[mask].id.count())\n",
    " \n",
    "    print(f'Data for {race} suspects:')\n",
    "    \n",
    "    print('Total Deaths: ', np.sum(deaths))\n",
    "    print(f'{race} Deaths: ', np.sum(race_deaths))\n",
    "    what_it_is = np.sum(race_deaths) / np.sum(deaths)\n",
    "    what_it_should_be = prop\n",
    "    disparity = (what_it_is - what_it_should_be) / what_it_should_be\n",
    "    print('Disparity: ', disparity, '\\n')"
   ]
  },
  {
   "cell_type": "code",
   "execution_count": 7,
   "metadata": {
    "tags": []
   },
   "outputs": [
    {
     "output_type": "stream",
     "name": "stdout",
     "text": "Data for WHITE suspects:\nTotal Deaths:  5587\nWHITE Deaths:  2528\nDisparity:  -0.37155698745102717 \n\nData for BLACK suspects:\nTotal Deaths:  5587\nBLACK Deaths:  1318\nDisparity:  0.685034135365261 \n\nData for HISPANIC suspects:\nTotal Deaths:  5587\nHISPANIC Deaths:  920\nDisparity:  -0.10017497684417667 \n\n"
    }
   ],
   "source": [
    "get_disparity('WHITE', white_mask, .72)\n",
    "get_disparity('BLACK', black_mask, .14)\n",
    "get_disparity('HISPANIC', hisp_mask, .183)"
   ]
  },
  {
   "cell_type": "code",
   "execution_count": 8,
   "metadata": {},
   "outputs": [],
   "source": [
    "def get_state_disparity(race, state, race_mask, state_mask, prop):\n",
    "  \n",
    "    deaths = []\n",
    "    race_deaths = []\n",
    "    deaths.append(df[(state_mask)].id.count())\n",
    "    race_deaths.append(df[(race_mask & state_mask)].id.count())\n",
    "    \n",
    "    print(f'Data for {race} suspects in {state}:')\n",
    "    \n",
    "    print('Total Deaths: ', np.sum(deaths))\n",
    "    print(f'{race} Deaths: ', np.sum(race_deaths))\n",
    "    what_it_is = np.sum(race_deaths) / np.sum(deaths)\n",
    "    what_it_should_be = prop\n",
    "    disparity = (what_it_is - what_it_should_be) / what_it_should_be\n",
    "    print('Disparity: ', disparity, '\\n')"
   ]
  },
  {
   "cell_type": "code",
   "execution_count": 9,
   "metadata": {
    "tags": []
   },
   "outputs": [
    {
     "output_type": "stream",
     "name": "stdout",
     "text": "Data for WHITE suspects in UTAH:\nTotal Deaths:  66\nWHITE Deaths:  39\nDisparity:  -0.3485015535732184 \n\nData for BLACK suspects in UTAH:\nTotal Deaths:  66\nBLACK Deaths:  7\nDisparity:  6.575757575757576 \n\nData for HISPANIC suspects in UTAH:\nTotal Deaths:  66\nHISPANIC Deaths:  12\nDisparity:  0.2804097311139566 \n\n"
    }
   ],
   "source": [
    "get_state_disparity('WHITE', 'UTAH', white_mask, utah_mask, .907)\n",
    "get_state_disparity('BLACK', 'UTAH', black_mask, utah_mask, .014)\n",
    "get_state_disparity('HISPANIC', 'UTAH', hisp_mask, utah_mask, .142)"
   ]
  },
  {
   "cell_type": "code",
   "execution_count": 10,
   "metadata": {
    "tags": []
   },
   "outputs": [
    {
     "output_type": "stream",
     "name": "stdout",
     "text": "Data for WHITE suspects in PROVO:\nTotal Deaths:  1\nWHITE Deaths:  1\nDisparity:  0.10253583241455344 \n\nData for BLACK suspects in PROVO:\nTotal Deaths:  1\nBLACK Deaths:  0\nDisparity:  -1.0 \n\nData for HISPANIC suspects in PROVO:\nTotal Deaths:  1\nHISPANIC Deaths:  0\nDisparity:  -1.0 \n\n"
    }
   ],
   "source": [
    "get_state_disparity('WHITE', 'PROVO', white_mask, provo_mask, .907)\n",
    "get_state_disparity('BLACK', 'PROVO', black_mask, provo_mask, .014)\n",
    "get_state_disparity('HISPANIC', 'PROVO', hisp_mask, provo_mask, .142)"
   ]
  },
  {
   "cell_type": "code",
   "execution_count": 11,
   "metadata": {
    "tags": []
   },
   "outputs": [
    {
     "output_type": "stream",
     "name": "stdout",
     "text": "Data for WHITE suspects in Nevada:\nTotal Deaths:  102\nWHITE Deaths:  43\nDisparity:  -0.42954177611504685 \n\nData for BLACK suspects in Nevada:\nTotal Deaths:  102\nBLACK Deaths:  15\nDisparity:  0.4277555682467163 \n\nData for HISPANIC suspects in Nevada:\nTotal Deaths:  102\nHISPANIC Deaths:  28\nDisparity:  -0.05989793177544977 \n\n"
    }
   ],
   "source": [
    "get_state_disparity('WHITE', 'Nevada', white_mask, nv_mask, .739)\n",
    "get_state_disparity('BLACK', 'Nevada', black_mask, nv_mask, .103)\n",
    "get_state_disparity('HISPANIC', 'Nevada', hisp_mask, nv_mask, .292)"
   ]
  },
  {
   "cell_type": "code",
   "execution_count": 12,
   "metadata": {},
   "outputs": [],
   "source": [
    "def get_state_diff_yr(state, state_mask, year, pop, prob_white, prob_black, prob_hisp):\n",
    "\n",
    "    black_mask = df.race == 'B'\n",
    "    white_mask = df.race == 'W'\n",
    "    hisp_mask = df.race == 'H'\n",
    "\n",
    "    deaths = df[(state_mask)][year].id.count()\n",
    "    black_deaths = df[(black_mask & state_mask)][year].id.count()\n",
    "    white_deaths = df[(white_mask & state_mask)][year].id.count()\n",
    "    hisp_deaths  = df[( hisp_mask & state_mask)][year].id.count()\n",
    "\n",
    "    prob_black_giv_death = black_deaths / deaths\n",
    "    prob_white_giv_death = white_deaths / deaths\n",
    "    prob_hisp_giv_death  =  hisp_deaths / deaths\n",
    "\n",
    "    prob_death = deaths / pop\n",
    "\n",
    "    prob_death_giv_black = prob_black_giv_death * prob_death / prob_black\n",
    "    prob_death_giv_white = prob_white_giv_death * prob_death / prob_white\n",
    "    prob_death_giv_hisp  = prob_hisp_giv_death  * prob_death /  prob_hisp\n",
    "\n",
    "\n",
    "    print(f'Death Disparity Among Races in {state} in {year}\\n')    \n",
    "    print('Total Deaths: ', deaths)\n",
    "    print('White Deaths: ', white_deaths)\n",
    "    print('Black Deaths: ', black_deaths)\n",
    "    print('Hispanic Deaths: ', hisp_deaths)\n",
    "    print('')\n",
    "    print('Probability if being killed by police if black: ', prob_death_giv_black)\n",
    "    print('Probability if being killed by police if white: ', prob_death_giv_white)\n",
    "    print('Probability if being killed by police if hisp:  ',  prob_death_giv_hisp)\n",
    "\n",
    "    print(f'Black people are {np.round(prob_death_giv_black / prob_death_giv_white, 3)} times more likely to be killed by police than white people')"
   ]
  },
  {
   "cell_type": "code",
   "execution_count": 13,
   "metadata": {
    "tags": []
   },
   "outputs": [
    {
     "output_type": "stream",
     "name": "stdout",
     "text": "Death Disparity Among Races in Nevada in 2019\n\nTotal Deaths:  11\nWhite Deaths:  3\nBlack Deaths:  2\nHispanic Deaths:  4\n\nProbability if being killed by police if black:  6.304375236414073e-06\nProbability if being killed by police if white:  1.3180324411718187e-06\nProbability if being killed by police if hisp:   4.4476071873332155e-06\nBlack people are 4.783 times more likely to be killed by police than white people\n"
    }
   ],
   "source": [
    "get_state_diff_yr('Nevada', nv_mask, '2019', 3.08e6, .739, .103, .292)"
   ]
  },
  {
   "cell_type": "code",
   "execution_count": 16,
   "metadata": {
    "tags": []
   },
   "outputs": [
    {
     "output_type": "stream",
     "name": "stdout",
     "text": "Death Disparity Among Races in Utah in 2019\n\nTotal Deaths:  12\nWhite Deaths:  6\nBlack Deaths:  2\nHispanic Deaths:  3\n\nProbability if being killed by police if black:  4.158868787689748e-05\nProbability if being killed by police if white:  2.065663305143915e-06\nProbability if being killed by police if hisp:   6.498232480765232e-06\nBlack people are 20.133 times more likely to be killed by police than white people\n"
    }
   ],
   "source": [
    "get_state_diff_yr('Utah', utah_mask, '2019', 3.206e6, .906, .015, .144)"
   ]
  },
  {
   "cell_type": "code",
   "execution_count": 28,
   "metadata": {},
   "outputs": [],
   "source": [
    "def get_diff_yr(year, pop, prob_white, prob_black, prob_hisp):\n",
    "\n",
    "    black_mask = df.race == 'B'\n",
    "    white_mask = df.race == 'W'\n",
    "    hisp_mask = df.race == 'H'\n",
    "\n",
    "    deaths = df[year].id.count()\n",
    "    black_deaths = df[black_mask][year].id.count()\n",
    "    white_deaths = df[white_mask][year].id.count()\n",
    "    hisp_deaths  = df[ hisp_mask][year].id.count()\n",
    "\n",
    "    prob_black_giv_death = black_deaths / deaths\n",
    "    prob_white_giv_death = white_deaths / deaths\n",
    "    prob_hisp_giv_death  =  hisp_deaths / deaths\n",
    "\n",
    "    prob_death = deaths / pop\n",
    "\n",
    "    prob_death_giv_black = prob_black_giv_death * prob_death / prob_black\n",
    "    prob_death_giv_white = prob_white_giv_death * prob_death / prob_white\n",
    "    prob_death_giv_hisp  = prob_hisp_giv_death  * prob_death /  prob_hisp\n",
    "\n",
    "\n",
    "    print(f'Death Disparity Among Races in {year}\\n')    \n",
    "    print('Total Deaths: ', deaths)\n",
    "    print('White Deaths: ', white_deaths)\n",
    "    print('Black Deaths: ', black_deaths)\n",
    "    print('Hispanic Deaths: ', hisp_deaths)\n",
    "    print('')\n",
    "    print('Probability if being killed by police if black: ', prob_death_giv_black)\n",
    "    print('Probability if being killed by police if white: ', prob_death_giv_white)\n",
    "    print('Probability if being killed by police if hisp:  ',  prob_death_giv_hisp)\n",
    "\n",
    "    print('')\n",
    "\n",
    "    print(f'Hispanic people are {np.round(prob_death_giv_hisp / prob_death_giv_white, 3)} times more likely to be killed by police than white people')\n",
    "\n",
    "    print(f'Black people are {np.round(prob_death_giv_black / prob_death_giv_white, 3)} times more likely to be killed by police than white people')"
   ]
  },
  {
   "cell_type": "code",
   "execution_count": 29,
   "metadata": {
    "tags": []
   },
   "outputs": [
    {
     "output_type": "stream",
     "name": "stdout",
     "text": "Death Disparity Among Races in 2020\n\nTotal Deaths:  656\nWhite Deaths:  240\nBlack Deaths:  123\nHispanic Deaths:  80\n\nProbability if being killed by police if black:  2.676939148602768e-06\nProbability if being killed by police if white:  1.0156408693885842e-06\nProbability if being killed by police if hisp:   1.3319880254276513e-06\nHispanic people are 1.311 times more likely to be killed by police than white people\nBlack people are 2.636 times more likely to be killed by police than white people\n"
    }
   ],
   "source": [
    "get_diff_yr('2020', 328.2e6, .72, .14, .183)"
   ]
  },
  {
   "cell_type": "code",
   "execution_count": 30,
   "metadata": {
    "tags": []
   },
   "outputs": [
    {
     "output_type": "stream",
     "name": "stdout",
     "text": "Death Disparity Among Races in 2019\n\nTotal Deaths:  999\nWhite Deaths:  403\nBlack Deaths:  250\nHispanic Deaths:  163\n\nProbability if being killed by police if black:  5.440933228867415e-06\nProbability if being killed by police if white:  1.7054302931816645e-06\nProbability if being killed by police if hisp:   2.71392560180884e-06\nHispanic people are 1.591 times more likely to be killed by police than white people\nBlack people are 3.19 times more likely to be killed by police than white people\n"
    }
   ],
   "source": [
    "get_diff_yr('2019', 328.2e6, .72, .14, .183)"
   ]
  },
  {
   "cell_type": "code",
   "execution_count": 31,
   "metadata": {
    "tags": []
   },
   "outputs": [
    {
     "output_type": "stream",
     "name": "stdout",
     "text": "Death Disparity Among Races in 2018\n\nTotal Deaths:  990\nWhite Deaths:  456\nBlack Deaths:  229\nHispanic Deaths:  165\n\nProbability if being killed by police if black:  4.983894837642551e-06\nProbability if being killed by police if white:  1.9297176518383103e-06\nProbability if being killed by police if hisp:   2.7472253024445307e-06\nHispanic people are 1.424 times more likely to be killed by police than white people\nBlack people are 2.583 times more likely to be killed by police than white people\n"
    }
   ],
   "source": [
    "get_diff_yr('2018', 328.2e6, .72, .14, .183)"
   ]
  },
  {
   "cell_type": "code",
   "execution_count": 15,
   "metadata": {},
   "outputs": [],
   "source": [
    "def get_state_diff(state, state_mask, pop, prob_white, prob_black, prob_hisp):\n",
    "\n",
    "    years = ['2017','2018','2019']\n",
    "    black_mask = df.race == 'B'\n",
    "    white_mask = df.race == 'W'\n",
    "    hisp_mask = df.race == 'H'\n",
    "    deaths = np.zeros(3)\n",
    "    black_deaths = np.zeros(3)\n",
    "    white_deaths = np.zeros(3)\n",
    "    hisp_deaths = np.zeros(3)\n",
    "    \n",
    "    for i,year in enumerate(years):\n",
    "        \n",
    "        deaths[i] = df[(state_mask)][year].id.count()\n",
    "        black_deaths[i] = df[(black_mask & state_mask)][year].id.count()\n",
    "        white_deaths[i] = df[(white_mask & state_mask)][year].id.count()\n",
    "        hisp_deaths[i]  = df[( hisp_mask & state_mask)][year].id.count()\n",
    "    \n",
    "    prob_black_giv_death = black_deaths / deaths\n",
    "    prob_white_giv_death = white_deaths / deaths\n",
    "    prob_hisp_giv_death  =  hisp_deaths / deaths\n",
    "\n",
    "    prob_death = deaths / pop\n",
    "\n",
    "    prob_death_giv_black = prob_black_giv_death * prob_death / prob_black\n",
    "    prob_death_giv_white = prob_white_giv_death * prob_death / prob_white\n",
    "    prob_death_giv_hisp  = prob_hisp_giv_death  * prob_death /  prob_hisp\n",
    "\n",
    "\n",
    "    print(f'Death Disparity Among Races in {state}\\n')    \n",
    "    print('Mean Yearly Deaths: ', deaths.mean())\n",
    "    print('Mean Yearly White Deaths: ', white_deaths.mean())\n",
    "    print('Mean Yearly Black Deaths: ', black_deaths.mean())\n",
    "    print('Mean Yearly Hispanic Deaths: ', hisp_deaths.mean())\n",
    "    print('')\n",
    "    print('Mean yearly probability if being killed by police if black: ', prob_death_giv_black.mean())\n",
    "    print('Mean yearly probability if being killed by police if white: ', prob_death_giv_white.mean())\n",
    "    print('Mean yearly probability if being killed by police if hisp:  ',  prob_death_giv_hisp.mean())\n",
    "\n",
    "    print(f'Black people are on average {np.round(prob_death_giv_black / prob_death_giv_white, 3).mean()} times more likely to be killed by police than white people')"
   ]
  },
  {
   "cell_type": "code",
   "execution_count": 16,
   "metadata": {
    "tags": []
   },
   "outputs": [
    {
     "name": "stdout",
     "output_type": "stream",
     "text": [
      "Death Disparity Among Races in Utah\n",
      "\n",
      "Mean Yearly Deaths:  12.666666666666666\n",
      "Mean Yearly White Deaths:  6.0\n",
      "Mean Yearly Black Deaths:  2.0\n",
      "Mean Yearly Hispanic Deaths:  3.6666666666666665\n",
      "\n",
      "Mean yearly probability if being killed by police if black:  4.158868787689748e-05\n",
      "Mean yearly probability if being killed by police if white:  2.0656633051439145e-06\n",
      "Mean yearly probability if being killed by police if hisp:   7.942284143157504e-06\n",
      "Black people are on average 22.817666666666668 times more likely to be killed by police than white people\n"
     ]
    }
   ],
   "source": [
    "get_state_diff('Utah', utah_mask, 3.206e6, .906, .015, .144)"
   ]
  },
  {
   "cell_type": "code",
   "execution_count": 17,
   "metadata": {
    "tags": []
   },
   "outputs": [
    {
     "name": "stdout",
     "output_type": "stream",
     "text": [
      "Death Disparity Among Races in Nevada\n",
      "\n",
      "Mean Yearly Deaths:  16.333333333333332\n",
      "Mean Yearly White Deaths:  5.666666666666667\n",
      "Mean Yearly Black Deaths:  2.3333333333333335\n",
      "Mean Yearly Hispanic Deaths:  5.333333333333333\n",
      "\n",
      "Mean yearly probability if being killed by police if black:  7.355104442483084e-06\n",
      "Mean yearly probability if being killed by police if white:  2.4896168333245464e-06\n",
      "Mean yearly probability if being killed by police if hisp:   5.930142916444287e-06\n",
      "Black people are on average 3.302666666666667 times more likely to be killed by police than white people\n"
     ]
    }
   ],
   "source": [
    "get_state_diff('Nevada', nv_mask, 3.08e6, .739, .103, .292)"
   ]
  },
  {
   "cell_type": "code",
   "execution_count": 18,
   "metadata": {},
   "outputs": [
    {
     "data": {
      "text/html": [
       "<div>\n",
       "<style scoped>\n",
       "    .dataframe tbody tr th:only-of-type {\n",
       "        vertical-align: middle;\n",
       "    }\n",
       "\n",
       "    .dataframe tbody tr th {\n",
       "        vertical-align: top;\n",
       "    }\n",
       "\n",
       "    .dataframe thead th {\n",
       "        text-align: right;\n",
       "    }\n",
       "</style>\n",
       "<table border=\"1\" class=\"dataframe\">\n",
       "  <thead>\n",
       "    <tr style=\"text-align: right;\">\n",
       "      <th></th>\n",
       "      <th>id</th>\n",
       "      <th>name</th>\n",
       "      <th>date</th>\n",
       "      <th>manner_of_death</th>\n",
       "      <th>armed</th>\n",
       "      <th>age</th>\n",
       "      <th>gender</th>\n",
       "      <th>race</th>\n",
       "      <th>city</th>\n",
       "      <th>state</th>\n",
       "      <th>signs_of_mental_illness</th>\n",
       "      <th>threat_level</th>\n",
       "      <th>flee</th>\n",
       "      <th>body_camera</th>\n",
       "    </tr>\n",
       "    <tr>\n",
       "      <th>date</th>\n",
       "      <th></th>\n",
       "      <th></th>\n",
       "      <th></th>\n",
       "      <th></th>\n",
       "      <th></th>\n",
       "      <th></th>\n",
       "      <th></th>\n",
       "      <th></th>\n",
       "      <th></th>\n",
       "      <th></th>\n",
       "      <th></th>\n",
       "      <th></th>\n",
       "      <th></th>\n",
       "      <th></th>\n",
       "    </tr>\n",
       "  </thead>\n",
       "  <tbody>\n",
       "    <tr>\n",
       "      <th>2015-01-02</th>\n",
       "      <td>3</td>\n",
       "      <td>Tim Elliot</td>\n",
       "      <td>2015-01-02</td>\n",
       "      <td>shot</td>\n",
       "      <td>gun</td>\n",
       "      <td>53.0</td>\n",
       "      <td>M</td>\n",
       "      <td>A</td>\n",
       "      <td>Shelton</td>\n",
       "      <td>WA</td>\n",
       "      <td>True</td>\n",
       "      <td>attack</td>\n",
       "      <td>Not fleeing</td>\n",
       "      <td>False</td>\n",
       "    </tr>\n",
       "    <tr>\n",
       "      <th>2015-01-02</th>\n",
       "      <td>4</td>\n",
       "      <td>Lewis Lee Lembke</td>\n",
       "      <td>2015-01-02</td>\n",
       "      <td>shot</td>\n",
       "      <td>gun</td>\n",
       "      <td>47.0</td>\n",
       "      <td>M</td>\n",
       "      <td>W</td>\n",
       "      <td>Aloha</td>\n",
       "      <td>OR</td>\n",
       "      <td>False</td>\n",
       "      <td>attack</td>\n",
       "      <td>Not fleeing</td>\n",
       "      <td>False</td>\n",
       "    </tr>\n",
       "    <tr>\n",
       "      <th>2015-01-03</th>\n",
       "      <td>5</td>\n",
       "      <td>John Paul Quintero</td>\n",
       "      <td>2015-01-03</td>\n",
       "      <td>shot and Tasered</td>\n",
       "      <td>unarmed</td>\n",
       "      <td>23.0</td>\n",
       "      <td>M</td>\n",
       "      <td>H</td>\n",
       "      <td>Wichita</td>\n",
       "      <td>KS</td>\n",
       "      <td>False</td>\n",
       "      <td>other</td>\n",
       "      <td>Not fleeing</td>\n",
       "      <td>False</td>\n",
       "    </tr>\n",
       "    <tr>\n",
       "      <th>2015-01-04</th>\n",
       "      <td>8</td>\n",
       "      <td>Matthew Hoffman</td>\n",
       "      <td>2015-01-04</td>\n",
       "      <td>shot</td>\n",
       "      <td>toy weapon</td>\n",
       "      <td>32.0</td>\n",
       "      <td>M</td>\n",
       "      <td>W</td>\n",
       "      <td>San Francisco</td>\n",
       "      <td>CA</td>\n",
       "      <td>True</td>\n",
       "      <td>attack</td>\n",
       "      <td>Not fleeing</td>\n",
       "      <td>False</td>\n",
       "    </tr>\n",
       "    <tr>\n",
       "      <th>2015-01-04</th>\n",
       "      <td>9</td>\n",
       "      <td>Michael Rodriguez</td>\n",
       "      <td>2015-01-04</td>\n",
       "      <td>shot</td>\n",
       "      <td>nail gun</td>\n",
       "      <td>39.0</td>\n",
       "      <td>M</td>\n",
       "      <td>H</td>\n",
       "      <td>Evans</td>\n",
       "      <td>CO</td>\n",
       "      <td>False</td>\n",
       "      <td>attack</td>\n",
       "      <td>Not fleeing</td>\n",
       "      <td>False</td>\n",
       "    </tr>\n",
       "    <tr>\n",
       "      <th>...</th>\n",
       "      <td>...</td>\n",
       "      <td>...</td>\n",
       "      <td>...</td>\n",
       "      <td>...</td>\n",
       "      <td>...</td>\n",
       "      <td>...</td>\n",
       "      <td>...</td>\n",
       "      <td>...</td>\n",
       "      <td>...</td>\n",
       "      <td>...</td>\n",
       "      <td>...</td>\n",
       "      <td>...</td>\n",
       "      <td>...</td>\n",
       "      <td>...</td>\n",
       "    </tr>\n",
       "    <tr>\n",
       "      <th>2015-12-29</th>\n",
       "      <td>1133</td>\n",
       "      <td>Siolosega Velega-Nuufolau</td>\n",
       "      <td>2015-12-29</td>\n",
       "      <td>shot</td>\n",
       "      <td>knife</td>\n",
       "      <td>50.0</td>\n",
       "      <td>F</td>\n",
       "      <td>O</td>\n",
       "      <td>Santa Nella</td>\n",
       "      <td>CA</td>\n",
       "      <td>True</td>\n",
       "      <td>other</td>\n",
       "      <td>Not fleeing</td>\n",
       "      <td>False</td>\n",
       "    </tr>\n",
       "    <tr>\n",
       "      <th>2015-12-29</th>\n",
       "      <td>1134</td>\n",
       "      <td>Tien Hua</td>\n",
       "      <td>2015-12-29</td>\n",
       "      <td>shot</td>\n",
       "      <td>unknown weapon</td>\n",
       "      <td>NaN</td>\n",
       "      <td>M</td>\n",
       "      <td>A</td>\n",
       "      <td>Rosemead</td>\n",
       "      <td>CA</td>\n",
       "      <td>False</td>\n",
       "      <td>undetermined</td>\n",
       "      <td>Not fleeing</td>\n",
       "      <td>False</td>\n",
       "    </tr>\n",
       "    <tr>\n",
       "      <th>2015-12-30</th>\n",
       "      <td>1135</td>\n",
       "      <td>Fred Perez</td>\n",
       "      <td>2015-12-30</td>\n",
       "      <td>shot</td>\n",
       "      <td>knife</td>\n",
       "      <td>55.0</td>\n",
       "      <td>M</td>\n",
       "      <td>H</td>\n",
       "      <td>Fresno</td>\n",
       "      <td>CA</td>\n",
       "      <td>False</td>\n",
       "      <td>attack</td>\n",
       "      <td>Not fleeing</td>\n",
       "      <td>True</td>\n",
       "    </tr>\n",
       "    <tr>\n",
       "      <th>2015-12-30</th>\n",
       "      <td>1136</td>\n",
       "      <td>John Randell Veach</td>\n",
       "      <td>2015-12-30</td>\n",
       "      <td>shot</td>\n",
       "      <td>undetermined</td>\n",
       "      <td>39.0</td>\n",
       "      <td>M</td>\n",
       "      <td>NaN</td>\n",
       "      <td>Rawlins</td>\n",
       "      <td>WY</td>\n",
       "      <td>False</td>\n",
       "      <td>undetermined</td>\n",
       "      <td>NaN</td>\n",
       "      <td>False</td>\n",
       "    </tr>\n",
       "    <tr>\n",
       "      <th>2015-12-31</th>\n",
       "      <td>1137</td>\n",
       "      <td>Keith Childress</td>\n",
       "      <td>2015-12-31</td>\n",
       "      <td>shot</td>\n",
       "      <td>unarmed</td>\n",
       "      <td>23.0</td>\n",
       "      <td>M</td>\n",
       "      <td>B</td>\n",
       "      <td>Las Vegas</td>\n",
       "      <td>NV</td>\n",
       "      <td>False</td>\n",
       "      <td>other</td>\n",
       "      <td>Not fleeing</td>\n",
       "      <td>True</td>\n",
       "    </tr>\n",
       "  </tbody>\n",
       "</table>\n",
       "<p>994 rows × 14 columns</p>\n",
       "</div>"
      ],
      "text/plain": [
       "              id                       name        date   manner_of_death  \\\n",
       "date                                                                        \n",
       "2015-01-02     3                 Tim Elliot  2015-01-02              shot   \n",
       "2015-01-02     4           Lewis Lee Lembke  2015-01-02              shot   \n",
       "2015-01-03     5         John Paul Quintero  2015-01-03  shot and Tasered   \n",
       "2015-01-04     8            Matthew Hoffman  2015-01-04              shot   \n",
       "2015-01-04     9          Michael Rodriguez  2015-01-04              shot   \n",
       "...          ...                        ...         ...               ...   \n",
       "2015-12-29  1133  Siolosega Velega-Nuufolau  2015-12-29              shot   \n",
       "2015-12-29  1134                   Tien Hua  2015-12-29              shot   \n",
       "2015-12-30  1135                 Fred Perez  2015-12-30              shot   \n",
       "2015-12-30  1136         John Randell Veach  2015-12-30              shot   \n",
       "2015-12-31  1137            Keith Childress  2015-12-31              shot   \n",
       "\n",
       "                     armed   age gender race           city state  \\\n",
       "date                                                                \n",
       "2015-01-02             gun  53.0      M    A        Shelton    WA   \n",
       "2015-01-02             gun  47.0      M    W          Aloha    OR   \n",
       "2015-01-03         unarmed  23.0      M    H        Wichita    KS   \n",
       "2015-01-04      toy weapon  32.0      M    W  San Francisco    CA   \n",
       "2015-01-04        nail gun  39.0      M    H          Evans    CO   \n",
       "...                    ...   ...    ...  ...            ...   ...   \n",
       "2015-12-29           knife  50.0      F    O    Santa Nella    CA   \n",
       "2015-12-29  unknown weapon   NaN      M    A       Rosemead    CA   \n",
       "2015-12-30           knife  55.0      M    H         Fresno    CA   \n",
       "2015-12-30    undetermined  39.0      M  NaN        Rawlins    WY   \n",
       "2015-12-31         unarmed  23.0      M    B      Las Vegas    NV   \n",
       "\n",
       "            signs_of_mental_illness  threat_level         flee  body_camera  \n",
       "date                                                                         \n",
       "2015-01-02                     True        attack  Not fleeing        False  \n",
       "2015-01-02                    False        attack  Not fleeing        False  \n",
       "2015-01-03                    False         other  Not fleeing        False  \n",
       "2015-01-04                     True        attack  Not fleeing        False  \n",
       "2015-01-04                    False        attack  Not fleeing        False  \n",
       "...                             ...           ...          ...          ...  \n",
       "2015-12-29                     True         other  Not fleeing        False  \n",
       "2015-12-29                    False  undetermined  Not fleeing        False  \n",
       "2015-12-30                    False        attack  Not fleeing         True  \n",
       "2015-12-30                    False  undetermined          NaN        False  \n",
       "2015-12-31                    False         other  Not fleeing         True  \n",
       "\n",
       "[994 rows x 14 columns]"
      ]
     },
     "execution_count": 18,
     "metadata": {},
     "output_type": "execute_result"
    }
   ],
   "source": [
    "df['2015']"
   ]
  },
  {
   "cell_type": "code",
   "execution_count": null,
   "metadata": {},
   "outputs": [],
   "source": []
  },
  {
   "cell_type": "code",
   "execution_count": null,
   "metadata": {},
   "outputs": [],
   "source": []
  }
 ],
 "metadata": {
  "kernelspec": {
   "display_name": "Python 3.8.2 64-bit",
   "language": "python",
   "name": "python_defaultSpec_1598591311509"
  },
  "language_info": {
   "codemirror_mode": {
    "name": "ipython",
    "version": 3
   },
   "file_extension": ".py",
   "mimetype": "text/x-python",
   "name": "python",
   "nbconvert_exporter": "python",
   "pygments_lexer": "ipython3",
   "version": "3.8.2-final"
  }
 },
 "nbformat": 4,
 "nbformat_minor": 4
}